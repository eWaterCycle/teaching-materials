{
 "cells": [
  {
   "cell_type": "code",
   "execution_count": 1,
   "metadata": {
    "editable": true,
    "slideshow": {
     "slide_type": ""
    },
    "tags": [
     "thebe-remove-input-init",
     "thebe-init"
    ]
   },
   "outputs": [],
   "source": [
    "import numpy as np\n",
    "import pandas as pd\n",
    "import matplotlib.pyplot as plt\n",
    "from ipywidgets import interact, FloatSlider, IntSlider\n",
    "from datetime import date\n",
    "from plot_hydrograph import plot_hydrograph, interactive_plot\n",
    "from Weigfun import Weigfun"
   ]
  },
  {
   "cell_type": "code",
   "execution_count": 2,
   "metadata": {
    "editable": true,
    "slideshow": {
     "slide_type": ""
    },
    "tags": [
     "thebe-init",
     "thebe-remove-input-init"
    ]
   },
   "outputs": [],
   "source": [
    "# This is the correct HBV model and is loaded but hidden on the jupyterbook.\n",
    "\n",
    "def HBVTeacher(Par,forcing,S_in, hydrograph):\n",
    "    #HBVpareto Calculates values of 3 objective functions for HBV model\n",
    "\n",
    "    I_max = Par[0]\n",
    "    Ce = Par[1]\n",
    "    Su_max = Par[2]\n",
    "    beta = Par[3]\n",
    "    P_max = Par[4]\n",
    "    T_lag = Par[5]\n",
    "    Kf = Par[6]\n",
    "    Ks = Par[7]\n",
    "    \n",
    "\n",
    "    Prec = forcing['P'].values\n",
    "    Qo = forcing['Q'].values\n",
    "    Etp = forcing['PE'].values\n",
    "\n",
    "\n",
    "    t_max = len(Prec)\n",
    "    \n",
    "    # allocate Si, Su, Sf, Ss, Ei_dt, Ea_dt, Q_tot_dt\n",
    "    \n",
    "    Si = np.zeros(t_max)\n",
    "    Su = np.zeros(t_max)\n",
    "    Sf = np.zeros(t_max)\n",
    "    Ss = np.zeros(t_max)\n",
    "    Ei_dt = np.zeros(t_max)\n",
    "    Ea_dt =  np.zeros(t_max)\n",
    "    Q_tot_dt = np.zeros(t_max)\n",
    "    Qs = np.zeros(t_max)\n",
    "    Qf = np.zeros(t_max)\n",
    "    \n",
    "    # initialize Si, Su, Sf, Ss\n",
    "    Si[0] = S_in[0]\n",
    "    Su[0] = S_in[1]\n",
    "    Sf[0] = S_in[2]\n",
    "    Ss[0] = S_in[3]\n",
    "\n",
    "    dt = 1\n",
    "\n",
    "    #\n",
    "    # Model 1 SOF1\n",
    "    for i in range(0, t_max):\n",
    "        P_dt = Prec[i] * dt\n",
    "        Ep_dt = Etp[i] * dt\n",
    "        \n",
    "        # Interception Reservoir\n",
    "        if P_dt > 0:\n",
    "            Si[i] = Si[i] + P_dt \n",
    "            Pe_dt = np.maximum(0, (Si[i] - I_max) / dt)\n",
    "            Si[i] = Si[i] - Pe_dt\n",
    "            Ei_dt[i] = 0\n",
    "        else:\n",
    "        # Evaporation only when there is no rainfall\n",
    "            Pe_dt = np.maximum(0, (Si[i] - I_max) / dt) #is zero, because of no rainfall\n",
    "            Ei_dt[i] = np.minimum(Epdt, Si[i] / dt)\n",
    "            Si[i] = Si[i] - Pe_dt - Ei_dt[i]\n",
    "        \n",
    "        if i < t_max-1:\n",
    "            Si[i+1] = Si[i]\n",
    "        \n",
    "        \n",
    "        # Split Pe into Unsaturated Reservoir and Preferential reservoir\n",
    "        if Pe_dt > 0:\n",
    "            Cr = (Su[i] / Su_max) ** beta\n",
    "            Qiu_dt = (1 - Cr) * Pe_dt # flux from Ir to Ur\n",
    "            Su[i] = Su[i] + Qiu_dt\n",
    "            Quf_dt = Cr * Pe_dt #flux from Su to Sf\n",
    "        else:\n",
    "            Quf_dt = 0\n",
    "        \n",
    "        # Transpiration\n",
    "        Ep_dt = max(0, Ep_dt - Ei_dt[i])\n",
    "        Ea_dt[i] = Ep_dt * (Su[i] / (Su_max * Ce))\n",
    "        Ea_dt[i] = min(Su[i] / dt, Ea_dt[i])\n",
    "        Su[i] = Su[i] - Ea_dt[i]\n",
    "        \n",
    "        # Percolation\n",
    "        Qus_dt = P_max * (Su[i] / Su_max) * dt # Flux from Su to Ss\n",
    "        Su[i] = Su[i] - Qus_dt\n",
    "        \n",
    "        if i < t_max - 1:\n",
    "            Su[i+1] = Su[i]\n",
    "        \n",
    "        # Fast Reservoir\n",
    "        Sf[i] = Sf[i] + Quf_dt\n",
    "        Qf_dt = dt * Kf * Sf[i]\n",
    "        Sf[i] = Sf[i] - Qf_dt\n",
    "        if i < t_max-1:\n",
    "            Sf[i+1] = Sf[i]\n",
    "        \n",
    "        # Slow Reservoir\n",
    "        Ss[i] = Ss[i] + Qus_dt\n",
    "        Qs_dt = dt * Ks * Ss[i]\n",
    "        Ss[i] = Ss[i] - Qs_dt\n",
    "        if i < t_max-1:\n",
    "            Ss[i+1] = Ss[i]\n",
    "        \n",
    "        Q_tot_dt[i] = Qs_dt + Qf_dt\n",
    "        Qs[i] = Qs_dt \n",
    "        Qf[i] = Qf_dt \n",
    "\n",
    "\n",
    "    # Check Water Balance\n",
    "    Sf = Si[-1] + Ss[-1] + Sf[-1] + Su[-1] #final storage\n",
    "    S_in = sum(S_in) #initial storage\n",
    "    WB = sum(Prec) - sum(Ei_dt) - sum(Ea_dt) - sum(Q_tot_dt) - Sf + S_in\n",
    "    # print(WB)\n",
    "    # Offset Q\n",
    "\n",
    "    Weigths = Weigfun(T_lag)\n",
    "    \n",
    "    Qm = np.convolve(Q_tot_dt, Weigths)\n",
    "    Qm = Qm[0:t_max]\n",
    "    forcing['Qm'] = Qm\n",
    "   \n",
    "    if hydrograph == 'TRUE':\n",
    "    ## Plot\n",
    "    # hour=1:t_max\\\n",
    "        fig, ax = plt.subplots(figsize=(12,8))\n",
    "        forcing['Q'].plot(label='Obserbed', ax=ax)\n",
    "        forcing['Qm'].plot(label='Model',  ax=ax)\n",
    "        ax.legend()\n",
    "        \n",
    "\n",
    "    return Qm\n",
    "\n",
    "    "
   ]
  },
  {
   "cell_type": "markdown",
   "metadata": {
    "editable": true,
    "slideshow": {
     "slide_type": ""
    },
    "tags": []
   },
   "source": [
    "`````{admonition} Interactive Python Page\n",
    ":class: tip, dropdown\n",
    "\n",
    "The code on this page can be used interactively: click {fa}`rocket` --> {guilabel}`Live Code` in the top right corner, then wait until the message {guilabel}`Python interaction ready!` appears.\n",
    "\n",
    "When this page is activated:\n",
    "- Several packages will be imported automatically\n",
    "- Code cells will **not** be executed automatically (you do it!)\n",
    "\n",
    "````{admonition} Which packages are imported when this page is activated?\n",
    ":class: note, dropdown\n",
    "```\n",
    "import numpy as np\n",
    "import pandas as pd\n",
    "import matplotlib.pyplot as plt\n",
    "from ipywidgets import interact, FloatSlider, IntSlider\n",
    "from datetime import date\n",
    "from plot_hydrograph import plot_hydrograph, interactive_plot\n",
    "from Weigfun import Weigfun```\n",
    "````\n",
    "`````"
   ]
  },
  {
   "cell_type": "markdown",
   "metadata": {
    "editable": true,
    "slideshow": {
     "slide_type": ""
    },
    "tags": []
   },
   "source": [
    "# Models Exercise 2: Lumped Conceptual Model\n",
    "\n",
    "In this exercise you will create a lumped conceptual model. In the figure below a schematization of the conceptual model is given.\n",
    "\n",
    "\n",
    "![image.png](figures/lumped_model.png)"
   ]
  },
  {
   "cell_type": "markdown",
   "metadata": {
    "editable": true,
    "slideshow": {
     "slide_type": ""
    },
    "tags": []
   },
   "source": [
    "## Part 1\n",
    "\n",
    "Write down all the different parts of the water balance with the correct units. Make use of the lecture slides and the equations and statements below.   \n",
    "\n",
    "Water can evaporate from the interception reservoir at the potential rate E$_p$. \n",
    "\n",
    "Water can spill from the reservoir when the level S$_i$ reaches I$_{max}$ (mm). \n",
    "\n",
    "P$_e$ is partitioned into P$_i$ and P$_f$ according to C$_r$, calculated as: \n",
    "\n",
    "$Cr=(S_u/S_{umax})^{\\beta}$\n",
    "\n",
    "Resulting for the fast storage: $Q_{uf} = C_r*P_e$; \n",
    "\n",
    "From which it can flow out: $Q_f=K_f*S_f$; \n",
    "\n",
    "For the underground storage holds: $Q_{iu} =(1-C_r)*P_e$. \n",
    "\n",
    "From here it can evaporate following: $E_a=S_u/(S_{umax}*C_e)*E_p$; \n",
    "\n",
    "Or it can percolate further into the ground: $Q_{us} =P_{max}*(S_u/S_{umax})$; \n",
    "\n",
    "From this storage it can flow out: $Q_s=K_s*S_s$. \n",
    "\n",
    "Q$_f$ and Q$_s$ are summed and routed through the triangular transfer function with base T$_{lag}$"
   ]
  },
  {
   "cell_type": "markdown",
   "metadata": {
    "editable": true,
    "slideshow": {
     "slide_type": ""
    },
    "tags": []
   },
   "source": [
    "## Part 2 Create HBV model\n",
    "\n",
    "In this part you will code the lumped model, which is also called the HBV-model. Below the function ```HBVMod``` is given, but as you can see, part of the function is unfinished. Only edit the part below the statement ```UPDATE THE PART BELOW``` and above ```END```. \n",
    "\n",
    "After you finish this function, you can plot the hydrograph and see if the function is correct. The plot is interactive, use the sliders to change a parameter and see what their effect is."
   ]
  },
  {
   "cell_type": "code",
   "execution_count": 3,
   "metadata": {
    "editable": true,
    "slideshow": {
     "slide_type": ""
    },
    "tags": []
   },
   "outputs": [
    {
     "ename": "SyntaxError",
     "evalue": "invalid syntax (2103499071.py, line 56)",
     "output_type": "error",
     "traceback": [
      "\u001B[0;36m  Cell \u001B[0;32mIn[3], line 56\u001B[0;36m\u001B[0m\n\u001B[0;31m    Pedt =\u001B[0m\n\u001B[0m           ^\u001B[0m\n\u001B[0;31mSyntaxError\u001B[0m\u001B[0;31m:\u001B[0m invalid syntax\n"
     ]
    }
   ],
   "source": [
    "def HBVMod(Par, forcing, S_in, hydrograph):\n",
    "    #HBVpareto Calculates values of 3 objective functions for HBV model\n",
    "\n",
    "    I_max = Par[0]\n",
    "    Ce = Par[1]\n",
    "    Su_max = Par[2]\n",
    "    beta = Par[3]\n",
    "    P_max = Par[4]\n",
    "    T_lag = Par[5]\n",
    "    Kf = Par[6]\n",
    "    Ks = Par[7]\n",
    "    \n",
    "\n",
    "    Prec = forcing['P'].values\n",
    "    Qo = forcing['Q'].values\n",
    "    Etp = forcing['PE'].values\n",
    "\n",
    "\n",
    "    t_max = len(Prec)\n",
    "    \n",
    "    # allocate Si, Su, Sf, Ss, Ei_dt, Ea_dt, Q_tot_dt\n",
    "    \n",
    "    Si = np.zeros(t_max)\n",
    "    Su = np.zeros(t_max)\n",
    "    Sf = np.zeros(t_max)\n",
    "    Ss = np.zeros(t_max)\n",
    "    Ei_dt = np.zeros(t_max)\n",
    "    Ea_dt =  np.zeros(t_max)\n",
    "    Q_tot_dt = np.zeros(t_max)\n",
    "    Qs = np.zeros(t_max)\n",
    "    Qf = np.zeros(t_max)\n",
    "    \n",
    "    # initialize Si, Su, Sf, Ss\n",
    "    Si[0] = S_in[0]\n",
    "    Su[0] = S_in[1]\n",
    "    Sf[0] = S_in[2]\n",
    "    Ss[0] = S_in[3]\n",
    "\n",
    "    dt = 1\n",
    "\n",
    "    #\n",
    "    # Model 1 SOF1\n",
    "\n",
    "    ####################################################################\n",
    "    #                     UPDATE THE PART BELOW                        #  \n",
    "    ####################################################################\n",
    "\n",
    "    \n",
    "    for i in range(0, t_max):\n",
    "        P_dt = Prec[i] * dt\n",
    "        Ep_dt = Etp[i] * dt\n",
    "        \n",
    "        # Interception Reservoir\n",
    "        if P_dt > 0:\n",
    "            Si[i] = Si[i] + P_dt \n",
    "            Pe_dt = \n",
    "            Si[i] = \n",
    "            Ei_dt[i] = \n",
    "        else:\n",
    "        # Evaporation only when there is no rainfall\n",
    "            Pe_dt = \n",
    "            Ei_dt[i] = \n",
    "            Si[i] = \n",
    "        \n",
    "        if i < t_max-1:\n",
    "            Si[i+1] = Si[i]\n",
    "        \n",
    "        \n",
    "        # Split Pe into Unsaturated Reservoir and Preferential reservoir\n",
    "        if Pe_dt > 0:\n",
    "            Cr = \n",
    "            Qiu_dt = \n",
    "            Su[i] = \n",
    "            Quf_dt = \n",
    "        else:\n",
    "            Quf_dt = \n",
    "        \n",
    "        # Transpiration\n",
    "        Ep_dt = \n",
    "        Ea_dt[i] =\n",
    "        Ea_dt[i] = \n",
    "        Su[i] =\n",
    "        \n",
    "        # Percolation\n",
    "        Qus_dt = \n",
    "        Su[i] = \n",
    "        \n",
    "        if i < t_max - 1:\n",
    "            Su[i+1] = Su[i]\n",
    "        \n",
    "        # Fast Reservoir\n",
    "        Sf[i] = \n",
    "        Qf_dt =\n",
    "        Sf[i] =\n",
    "        if i < t_max-1:\n",
    "            Sf[i+1] = Sf[i]\n",
    "        \n",
    "        # Slow Reservoir\n",
    "        Ss[i] =\n",
    "        Qs_dt = \n",
    "        Ss[i] = \n",
    "        if i < t_max-1:\n",
    "            Ss[i+1] = Ss[i]\n",
    "        \n",
    "        Q_tot_dt[i] = \n",
    "        Qs[i] = \n",
    "        Qf[i] = \n",
    "\n",
    "    ####################################################################\n",
    "    #                             END                                  #  \n",
    "    ####################################################################\n",
    "    \n",
    "\n",
    "    # Check Water Balance\n",
    "    Sf = Si[-1] + Ss[-1] + Sf[-1] + Su[-1] #final storage\n",
    "    S_in = sum(S_in) #initial storage\n",
    "    WB = sum(Prec) - sum(Ei_dt) - sum(Ea_dt) - sum(Q_tot_dt) - Sf + S_in\n",
    "    print(WB)\n",
    "    # Offset Q\n",
    "\n",
    "    Weigths = Weigfun(T_lag)\n",
    "    \n",
    "    Qm = np.convolve(Q_tot_dt, Weigths)\n",
    "    Qm = Qm[0:t_max]\n",
    "    forcing['Qm'] = Qm\n",
    "    \n",
    "    if hydrograph == 'TRUE':\n",
    "    ## Plot\n",
    "    # hour=1:t_max\\\n",
    "        fig, ax = plt.subplots(figsize=(12,8))\n",
    "        forcing['Q'].plot(label='Obserbed', ax=ax)\n",
    "        forcing['Qm'].plot(label='Model',  ax=ax)\n",
    "        ax.legend()\n",
    "        \n",
    "\n",
    "    return(Qm)\n"
   ]
  },
  {
   "cell_type": "markdown",
   "metadata": {
    "editable": true,
    "slideshow": {
     "slide_type": ""
    },
    "tags": []
   },
   "source": [
    "Before we can compute the discharge based on your model, we need to import the forcing data from the text file into a dataframe. "
   ]
  },
  {
   "cell_type": "code",
   "execution_count": 4,
   "metadata": {
    "editable": true,
    "slideshow": {
     "slide_type": ""
    },
    "tags": []
   },
   "outputs": [],
   "source": [
    "data = pd.read_csv('Forcing.txt', skipinitialspace=True, delimiter='\\t', names=['year', 'month', 'day', 'P', 'Q', 'PE'])\n",
    "forcing = pd.DataFrame()\n",
    "forcing['P'] = data['P']\n",
    "forcing['PE'] = data['PE']\n",
    "forcing['Q'] = data['Q']\n",
    "forcing.index = data.apply(lambda x: date(int(x.year), int(x.month), int(x.day)), axis=1)\n",
    "forcing.index = pd.to_datetime(forcing.index, format='%Y-%m-%d')\n"
   ]
  },
  {
   "cell_type": "markdown",
   "metadata": {
    "editable": true,
    "slideshow": {
     "slide_type": ""
    },
    "tags": []
   },
   "source": [
    "To create an interactive plot, the sets with minimum and maximum parameters should be given. If you want you can change these values. \n",
    "\n",
    "If you run the cell below, an interactive plot will be generated. In this plot you can change the values of the different parameters, play with the values and see their effect on the hydrograph and the NSE value. How many times did you change the parameters to get a reasonable NSE value? "
   ]
  },
  {
   "cell_type": "code",
   "execution_count": 5,
   "metadata": {
    "editable": true,
    "slideshow": {
     "slide_type": ""
    },
    "tags": []
   },
   "outputs": [],
   "source": [
    "params = {\n",
    "    'I_max': {'min': 0, 'max': 10},\n",
    "    'Ce': {'min': 0.1, 'max': 1},\n",
    "    'Su_max': {'min': 40, 'max': 800},\n",
    "    'beta': {'min': 0.5, 'max': 5},\n",
    "    'P_max': {'min': 0.001, 'max': 0.3},\n",
    "    'T_lag': {'min': 1, 'max': 10},\n",
    "    'Kf': {'min': 0.01, 'max': 0.1},\n",
    "    'Ks': {'min': 0.0001, 'max': 0.01},\n",
    "}\n"
   ]
  },
  {
   "cell_type": "code",
   "execution_count": 6,
   "metadata": {
    "editable": true,
    "slideshow": {
     "slide_type": ""
    },
    "tags": []
   },
   "outputs": [
    {
     "ename": "NameError",
     "evalue": "name 'HBVMod' is not defined",
     "output_type": "error",
     "traceback": [
      "\u001B[0;31m---------------------------------------------------------------------------\u001B[0m",
      "\u001B[0;31mNameError\u001B[0m                                 Traceback (most recent call last)",
      "Cell \u001B[0;32mIn[6], line 1\u001B[0m\n\u001B[0;32m----> 1\u001B[0m interactive_plot(\u001B[43mHBVMod\u001B[49m, forcing, params)\n",
      "\u001B[0;31mNameError\u001B[0m: name 'HBVMod' is not defined"
     ]
    }
   ],
   "source": [
    "interactive_plot(HBVMod, forcing, params)"
   ]
  },
  {
   "cell_type": "code",
   "execution_count": 7,
   "metadata": {
    "editable": true,
    "slideshow": {
     "slide_type": ""
    },
    "tags": []
   },
   "outputs": [
    {
     "data": {
      "application/vnd.jupyter.widget-view+json": {
       "model_id": "6006de375a4d43be9a9fa24d1552b659",
       "version_major": 2,
       "version_minor": 0
      },
      "text/plain": [
       "VBox(children=(HTML(value=''), HBox(children=(Label(value='Imax', layout=Layout(width='150px')), FloatSlider(v…"
      ]
     },
     "metadata": {},
     "output_type": "display_data"
    },
    {
     "data": {
      "application/vnd.jupyter.widget-view+json": {
       "model_id": "2d794fd361c346a589bab1c3e993b1bd",
       "version_major": 2,
       "version_minor": 0
      },
      "text/plain": [
       "Output()"
      ]
     },
     "metadata": {},
     "output_type": "display_data"
    }
   ],
   "source": [
    "interactive_plot(HBVTeacher, forcing, params)"
   ]
  }
 ],
 "metadata": {
  "kernelspec": {
   "display_name": "Python 3 (ipykernel)",
   "language": "python",
   "name": "python3"
  },
  "language_info": {
   "codemirror_mode": {
    "name": "ipython",
    "version": 3
   },
   "file_extension": ".py",
   "mimetype": "text/x-python",
   "name": "python",
   "nbconvert_exporter": "python",
   "pygments_lexer": "ipython3",
   "version": "3.12.5"
  }
 },
 "nbformat": 4,
 "nbformat_minor": 4
}

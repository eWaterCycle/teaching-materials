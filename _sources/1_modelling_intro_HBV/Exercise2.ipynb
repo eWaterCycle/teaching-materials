{
 "cells": [
  {
   "cell_type": "code",
   "execution_count": 1,
   "metadata": {
    "editable": true,
    "slideshow": {
     "slide_type": ""
    },
    "tags": [
     "thebe-remove-input-init",
     "thebe-init"
    ]
   },
   "outputs": [],
   "source": [
    "import numpy as np\n",
    "import pandas as pd\n",
    "import matplotlib.pyplot as plt\n",
    "from ipywidgets import interact, FloatSlider, IntSlider\n",
    "from datetime import date\n",
    "from plot_hydrograph import plot_hydrograph, interactive_plot\n",
    "from Weigfun import Weigfun"
   ]
  },
  {
   "cell_type": "code",
   "execution_count": 2,
   "metadata": {
    "editable": true,
    "slideshow": {
     "slide_type": ""
    },
    "tags": [
     "thebe-init",
     "thebe-remove-input-init"
    ]
   },
   "outputs": [],
   "source": [
    "# This is the correct HBV model and is loaded but hidden on the jupyterbook.\n",
    "\n",
    "def HBVTeacher(Par,forcing,Sin, hydrograph):\n",
    "    #HBVpareto Calculates values of 3 objective functions for HBV model\n",
    "\n",
    "    Imax = Par[0]\n",
    "    Ce = Par[1]\n",
    "    Sumax = Par[2]\n",
    "    beta = Par[3]\n",
    "    Pmax = Par[4]\n",
    "    Tlag = Par[5]\n",
    "    Kf = Par[6]\n",
    "    Ks = Par[7]\n",
    "    \n",
    "\n",
    "    Prec = forcing['P'].values\n",
    "    Qo = forcing['Q'].values\n",
    "    Etp = forcing['PE'].values\n",
    "\n",
    "\n",
    "    tmax = len(Prec)\n",
    "    \n",
    "    # allocate Si, Su, Sf, Ss, Eidt, Eadt, Qtotdt\n",
    "    \n",
    "    Si = np.zeros(tmax)\n",
    "    Su = np.zeros(tmax)\n",
    "    Sf = np.zeros(tmax)\n",
    "    Ss = np.zeros(tmax)\n",
    "    Eidt = np.zeros(tmax)\n",
    "    Eadt =  np.zeros(tmax)\n",
    "    Qtotdt = np.zeros(tmax)\n",
    "    Qs = np.zeros(tmax)\n",
    "    Qf = np.zeros(tmax)\n",
    "    \n",
    "    # initialize Si, Su, Sf, Ss\n",
    "    Si[0] = Sin[0]\n",
    "    Su[0] = Sin[1]\n",
    "    Sf[0] = Sin[2]\n",
    "    Ss[0] = Sin[3]\n",
    "\n",
    "    dt = 1\n",
    "\n",
    "    #\n",
    "    # Model 1 SOF1\n",
    "    for i in range(0, tmax):\n",
    "        Pdt = Prec[i] * dt\n",
    "        Epdt = Etp[i] * dt\n",
    "        \n",
    "        # Interception Reservoir\n",
    "        if Pdt > 0:\n",
    "            Si[i] = Si[i] + Pdt\n",
    "            Pedt = np.maximum(0, (Si[i] - Imax) / dt)\n",
    "            Si[i] = Si[i] - Pedt\n",
    "            Eidt[i] = 0\n",
    "        else:\n",
    "        # Evaporation only when there is no rainfall\n",
    "            Pedt = np.maximum(0, (Si[i] - Imax) / dt) #is zero, because of no rainfall\n",
    "            Eidt[i] = np.minimum(Epdt, Si[i] / dt)\n",
    "            Si[i] = Si[i] - Pedt - Eidt[i]\n",
    "        \n",
    "        if i < tmax-1:\n",
    "            Si[i+1] = Si[i]\n",
    "        \n",
    "        \n",
    "        # Split Pe into Unsaturated Reservoir and Preferential reservoir\n",
    "        if Pedt > 0:\n",
    "            Cr = (Su[i] / Sumax) ** beta\n",
    "            Qiudt = (1 - Cr) * Pedt # flux from Ir to Ur\n",
    "            Su[i] = Su[i] + Qiudt\n",
    "            Qufdt = Cr * Pedt #flux from Su to Sf\n",
    "        else:\n",
    "            Qufdt = 0\n",
    "        \n",
    "        # Transpiration\n",
    "        Epdt = max(0, Epdt - Eidt[i])\n",
    "        Eadt[i] = Epdt * (Su[i] / (Sumax * Ce))\n",
    "        Eadt[i] = min(Su[i] / dt, Eadt[i])\n",
    "        Su[i] = Su[i] - Eadt[i]\n",
    "        \n",
    "        # Percolation\n",
    "        Qusdt = Pmax * (Su[i] / Sumax) * dt # Flux from Su to Ss\n",
    "        Su[i] = Su[i] - Qusdt\n",
    "        \n",
    "        if i < tmax - 1:\n",
    "            Su[i+1] = Su[i]\n",
    "        \n",
    "        # Fast Reservoir\n",
    "        Sf[i] = Sf[i] + Qufdt\n",
    "        Qfdt = dt * Kf * Sf[i]\n",
    "        Sf[i] = Sf[i] - Qfdt\n",
    "        if i < tmax-1:\n",
    "            Sf[i+1] = Sf[i]\n",
    "        \n",
    "        # Slow Reservoir\n",
    "        Ss[i] = Ss[i] + Qusdt\n",
    "        Qsdt = dt * Ks * Ss[i]\n",
    "        Ss[i] = Ss[i] - Qsdt\n",
    "        if i < tmax-1:\n",
    "            Ss[i+1] = Ss[i]\n",
    "        \n",
    "        Qtotdt[i] = Qsdt + Qfdt\n",
    "        Qs[i] = Qsdt \n",
    "        Qf[i] = Qfdt \n",
    "\n",
    "\n",
    "    # Check Water Balance\n",
    "    Sf = Si[-1] + Ss[-1] + Sf[-1] + Su[-1] #final storage\n",
    "    Sin = sum(Sin) #initial storage\n",
    "    WB = sum(Prec) - sum(Eidt) - sum(Eadt) - sum(Qtotdt) - Sf + Sin\n",
    "    # print(WB)\n",
    "    # Offset Q\n",
    "\n",
    "    Weigths = Weigfun(Tlag)\n",
    "    \n",
    "    Qm = np.convolve(Qtotdt, Weigths)\n",
    "    Qm = Qm[0:tmax]\n",
    "    forcing['Qm'] = Qm\n",
    "   \n",
    "    if hydrograph == 'TRUE':\n",
    "    ## Plot\n",
    "    # hour=1:tmax\\\n",
    "        fig, ax = plt.subplots(figsize=(12,8))\n",
    "        forcing['Q'].plot(label='Obserbed', ax=ax)\n",
    "        forcing['Qm'].plot(label='Model',  ax=ax)\n",
    "        ax.legend()\n",
    "        \n",
    "\n",
    "    return Qm\n",
    "\n",
    "    "
   ]
  },
  {
   "cell_type": "markdown",
   "metadata": {
    "editable": true,
    "slideshow": {
     "slide_type": ""
    },
    "tags": []
   },
   "source": [
    "`````{admonition} Interactive Python Page\n",
    ":class: tip, dropdown\n",
    "\n",
    "The code on this page can be used interactively: click {fa}`rocket` --> {guilabel}`Live Code` in the top right corner, then wait until the message {guilabel}`Python interaction ready!` appears.\n",
    "\n",
    "When this page is activated:\n",
    "- Several packages will be imported automatically\n",
    "- Code cells will **not** be executed automatically (you do it!)\n",
    "\n",
    "````{admonition} Which packages are imported when this page is activated?\n",
    ":class: note, dropdown\n",
    "```\n",
    "import numpy as np\n",
    "import pandas as pd\n",
    "import matplotlib.pyplot as plt\n",
    "from ipywidgets import interact, FloatSlider, IntSlider\n",
    "from datetime import date\n",
    "from plot_hydrograph import plot_hydrograph, interactive_plot\n",
    "from Weigfun import Weigfun```\n",
    "````\n",
    "`````"
   ]
  },
  {
   "cell_type": "markdown",
   "metadata": {
    "editable": true,
    "slideshow": {
     "slide_type": ""
    },
    "tags": []
   },
   "source": [
    "# Models Exercise 2: Lumped Conceptual Model\n",
    "\n",
    "In this exercise you will create a lumped conceptual model. In the figure below a schematization of the conceptual model is given.\n",
    "\n",
    "\n",
    "![image.png](figures/lumped_model.png)"
   ]
  },
  {
   "cell_type": "markdown",
   "metadata": {
    "editable": true,
    "slideshow": {
     "slide_type": ""
    },
    "tags": []
   },
   "source": [
    "## Part 1\n",
    "\n",
    "Write down all the different parts of the water balance with the correct units. Make use of the lecture slides and the equations and statements below.   \n",
    "\n",
    "Water can evaporate from the interception reservoir at the potential rate E$_p$. \n",
    "\n",
    "Water can spill from the reservoir when the level S$_i$ reaches I$_{max}$ (mm). \n",
    "\n",
    "P$_e$ is partitioned into P$_i$ and P$_f$ according to C$_r$, calculated as: \n",
    "\n",
    "$Cr=(S_u/S_{umax})^{\\beta}$\n",
    "\n",
    "Resulting for the fast storage: $Q_{uf} = C_r*P_e$; \n",
    "\n",
    "From which it can flow out: $Q_f=K_f*S_f$; \n",
    "\n",
    "For the underground storage holds: $Q_{iu} =(1-C_r)*P_e$. \n",
    "\n",
    "From here it can evaporate following: $E_a=S_u/(S_{umax}*C_e)*E_p$; \n",
    "\n",
    "Or it can percolate further into the ground: $Q_{us} =P_{max}*(S_u/S_{umax})$; \n",
    "\n",
    "From this storage it can flow out: $Q_s=K_s*S_s$. \n",
    "\n",
    "Q$_f$ and Q$_s$ are summed and routed through the triangular transfer function with base T$_{lag}$"
   ]
  },
  {
   "cell_type": "markdown",
   "metadata": {
    "editable": true,
    "slideshow": {
     "slide_type": ""
    },
    "tags": []
   },
   "source": [
    "## Part 2 Create HBV model\n",
    "\n",
    "In this part you will code the lumped model, which is also called the HBV-model. Below the function ```HBVMod``` is given, but as you can see, part of the function is unfinished. Only edit the part below the statement ```UPDATE THE PART BELOW``` and above ```END```. \n",
    "\n",
    "After you finish this function, you can plot the hydrograph and see if the function is correct. The plot is interactive, use the sliders to change a parameter and see what their effect is."
   ]
  },
  {
   "cell_type": "code",
   "execution_count": 3,
   "metadata": {
    "editable": true,
    "slideshow": {
     "slide_type": ""
    },
    "tags": []
   },
   "outputs": [
    {
     "ename": "SyntaxError",
     "evalue": "invalid syntax (2103499071.py, line 56)",
     "output_type": "error",
     "traceback": [
      "\u001b[0;36m  Cell \u001b[0;32mIn[3], line 56\u001b[0;36m\u001b[0m\n\u001b[0;31m    Pedt =\u001b[0m\n\u001b[0m           ^\u001b[0m\n\u001b[0;31mSyntaxError\u001b[0m\u001b[0;31m:\u001b[0m invalid syntax\n"
     ]
    }
   ],
   "source": [
    "def HBVMod(Par, forcing, Sin, hydrograph):\n",
    "    #HBVpareto Calculates values of 3 objective functions for HBV model\n",
    "\n",
    "    Imax = Par[0]\n",
    "    Ce = Par[1]\n",
    "    Sumax = Par[2]\n",
    "    beta = Par[3]\n",
    "    Pmax = Par[4]\n",
    "    Tlag = Par[5]\n",
    "    Kf = Par[6]\n",
    "    Ks = Par[7]\n",
    "    \n",
    "\n",
    "    Prec = forcing['P'].values\n",
    "    Qo = forcing['Q'].values\n",
    "    Etp = forcing['PE'].values\n",
    "\n",
    "\n",
    "    tmax = len(Prec)\n",
    "    \n",
    "    # allocate Si, Su, Sf, Ss, Eidt, Eadt, Qtotdt\n",
    "    \n",
    "    Si = np.zeros(tmax)\n",
    "    Su = np.zeros(tmax)\n",
    "    Sf = np.zeros(tmax)\n",
    "    Ss = np.zeros(tmax)\n",
    "    Eidt = np.zeros(tmax)\n",
    "    Eadt =  np.zeros(tmax)\n",
    "    Qtotdt = np.zeros(tmax)\n",
    "    Qs = np.zeros(tmax)\n",
    "    Qf = np.zeros(tmax)\n",
    "    \n",
    "    # initialize Si, Su, Sf, Ss\n",
    "    Si[0] = Sin[0]\n",
    "    Su[0] = Sin[1]\n",
    "    Sf[0] = Sin[2]\n",
    "    Ss[0] = Sin[3]\n",
    "\n",
    "    dt = 1\n",
    "\n",
    "    #\n",
    "    # Model 1 SOF1\n",
    "\n",
    "    ####################################################################\n",
    "    #                     UPDATE THE PART BELOW                        #  \n",
    "    ####################################################################\n",
    "\n",
    "    \n",
    "    for i in range(0, tmax):\n",
    "        Pdt = Prec[i] * dt\n",
    "        Epdt = Etp[i] * dt\n",
    "        \n",
    "        # Interception Reservoir\n",
    "        if Pdt > 0:\n",
    "            Si[i] = Si[i] + Pdt\n",
    "            Pedt = \n",
    "            Si[i] = \n",
    "            Eidt[i] = \n",
    "        else:\n",
    "        # Evaporation only when there is no rainfall\n",
    "            Pedt = \n",
    "            Eidt[i] = \n",
    "            Si[i] = \n",
    "        \n",
    "        if i < tmax-1:\n",
    "            Si[i+1] = Si[i]\n",
    "        \n",
    "        \n",
    "        # Split Pe into Unsaturated Reservoir and Preferential reservoir\n",
    "        if Pedt > 0:\n",
    "            Cr = \n",
    "            Qiudt = \n",
    "            Su[i] = \n",
    "            Qufdt = \n",
    "        else:\n",
    "            Qufdt = \n",
    "        \n",
    "        # Transpiration\n",
    "        Epdt = \n",
    "        Eadt[i] =\n",
    "        Eadt[i] = \n",
    "        Su[i] =\n",
    "        \n",
    "        # Percolation\n",
    "        Qusdt = \n",
    "        Su[i] = \n",
    "        \n",
    "        if i < tmax - 1:\n",
    "            Su[i+1] = Su[i]\n",
    "        \n",
    "        # Fast Reservoir\n",
    "        Sf[i] = \n",
    "        Qfdt =\n",
    "        Sf[i] =\n",
    "        if i < tmax-1:\n",
    "            Sf[i+1] = Sf[i]\n",
    "        \n",
    "        # Slow Reservoir\n",
    "        Ss[i] =\n",
    "        Qsdt = \n",
    "        Ss[i] = \n",
    "        if i < tmax-1:\n",
    "            Ss[i+1] = Ss[i]\n",
    "        \n",
    "        Qtotdt[i] = \n",
    "        Qs[i] = \n",
    "        Qf[i] = \n",
    "\n",
    "    ####################################################################\n",
    "    #                             END                                  #  \n",
    "    ####################################################################\n",
    "    \n",
    "\n",
    "    # Check Water Balance\n",
    "    Sf = Si[-1] + Ss[-1] + Sf[-1] + Su[-1] #final storage\n",
    "    Sin = sum(Sin) #initial storage\n",
    "    WB = sum(Prec) - sum(Eidt) - sum(Eadt) - sum(Qtotdt) - Sf + Sin\n",
    "    print(WB)\n",
    "    # Offset Q\n",
    "\n",
    "    Weigths = Weigfun(Tlag)\n",
    "    \n",
    "    Qm = np.convolve(Qtotdt, Weigths)\n",
    "    Qm = Qm[0:tmax]\n",
    "    forcing['Qm'] = Qm\n",
    "    \n",
    "    if hydrograph == 'TRUE':\n",
    "    ## Plot\n",
    "    # hour=1:tmax\\\n",
    "        fig, ax = plt.subplots(figsize=(12,8))\n",
    "        forcing['Q'].plot(label='Obserbed', ax=ax)\n",
    "        forcing['Qm'].plot(label='Model',  ax=ax)\n",
    "        ax.legend()\n",
    "        \n",
    "\n",
    "    return(Qm)\n"
   ]
  },
  {
   "cell_type": "markdown",
   "metadata": {
    "editable": true,
    "slideshow": {
     "slide_type": ""
    },
    "tags": []
   },
   "source": [
    "Before we can compute the discharge based on your model, we need to import the forcing data from the text file into a dataframe. "
   ]
  },
  {
   "cell_type": "code",
   "execution_count": 4,
   "metadata": {
    "editable": true,
    "slideshow": {
     "slide_type": ""
    },
    "tags": []
   },
   "outputs": [],
   "source": [
    "data = pd.read_csv('Forcing.txt', skipinitialspace=True, delimiter='\\t', names=['year', 'month', 'day', 'P', 'Q', 'PE'])\n",
    "forcing = pd.DataFrame()\n",
    "forcing['P'] = data['P']\n",
    "forcing['PE'] = data['PE']\n",
    "forcing['Q'] = data['Q']\n",
    "forcing.index = data.apply(lambda x: date(int(x.year), int(x.month), int(x.day)), axis=1)\n",
    "forcing.index = pd.to_datetime(forcing.index, format='%Y-%m-%d')\n"
   ]
  },
  {
   "cell_type": "markdown",
   "metadata": {
    "editable": true,
    "slideshow": {
     "slide_type": ""
    },
    "tags": []
   },
   "source": [
    "To create an interactive plot, the sets with minimum and maximum parameters should be given. If you want you can change these values. \n",
    "\n",
    "If you run the cell below, an interactive plot will be generated. In this plot you can change the values of the different parameters, play with the values and see their effect on the hydrograph and the NSE value. How many times did you change the parameters to get a reasonable NSE value? "
   ]
  },
  {
   "cell_type": "code",
   "execution_count": 5,
   "metadata": {
    "editable": true,
    "slideshow": {
     "slide_type": ""
    },
    "tags": []
   },
   "outputs": [],
   "source": [
    "params = {\n",
    "    'Imax': {'min': 0, 'max': 10},\n",
    "    'Ce': {'min': 0.1, 'max': 1},\n",
    "    'Sumax': {'min': 40, 'max': 800},\n",
    "    'beta': {'min': 0.5, 'max': 5},\n",
    "    'Pmax': {'min': 0.001, 'max': 0.3},\n",
    "    'Tlag': {'min': 1, 'max': 10},\n",
    "    'Kf': {'min': 0.01, 'max': 0.1},\n",
    "    'Ks': {'min': 0.0001, 'max': 0.01},\n",
    "}\n"
   ]
  },
  {
   "cell_type": "code",
   "execution_count": 6,
   "metadata": {
    "editable": true,
    "slideshow": {
     "slide_type": ""
    },
    "tags": []
   },
   "outputs": [
    {
     "ename": "NameError",
     "evalue": "name 'HBVMod' is not defined",
     "output_type": "error",
     "traceback": [
      "\u001b[0;31m---------------------------------------------------------------------------\u001b[0m",
      "\u001b[0;31mNameError\u001b[0m                                 Traceback (most recent call last)",
      "Cell \u001b[0;32mIn[6], line 1\u001b[0m\n\u001b[0;32m----> 1\u001b[0m interactive_plot(\u001b[43mHBVMod\u001b[49m, forcing, params)\n",
      "\u001b[0;31mNameError\u001b[0m: name 'HBVMod' is not defined"
     ]
    }
   ],
   "source": [
    "interactive_plot(HBVMod, forcing, params)"
   ]
  },
  {
   "cell_type": "code",
   "execution_count": 7,
   "metadata": {
    "editable": true,
    "slideshow": {
     "slide_type": ""
    },
    "tags": []
   },
   "outputs": [
    {
     "data": {
      "application/vnd.jupyter.widget-view+json": {
       "model_id": "6006de375a4d43be9a9fa24d1552b659",
       "version_major": 2,
       "version_minor": 0
      },
      "text/plain": [
       "VBox(children=(HTML(value=''), HBox(children=(Label(value='Imax', layout=Layout(width='150px')), FloatSlider(v…"
      ]
     },
     "metadata": {},
     "output_type": "display_data"
    },
    {
     "data": {
      "application/vnd.jupyter.widget-view+json": {
       "model_id": "2d794fd361c346a589bab1c3e993b1bd",
       "version_major": 2,
       "version_minor": 0
      },
      "text/plain": [
       "Output()"
      ]
     },
     "metadata": {},
     "output_type": "display_data"
    }
   ],
   "source": [
    "interactive_plot(HBVTeacher, forcing, params)"
   ]
  }
 ],
 "metadata": {
  "kernelspec": {
   "display_name": "Python 3 (ipykernel)",
   "language": "python",
   "name": "python3"
  },
  "language_info": {
   "codemirror_mode": {
    "name": "ipython",
    "version": 3
   },
   "file_extension": ".py",
   "mimetype": "text/x-python",
   "name": "python",
   "nbconvert_exporter": "python",
   "pygments_lexer": "ipython3",
   "version": "3.12.5"
  }
 },
 "nbformat": 4,
 "nbformat_minor": 4
}

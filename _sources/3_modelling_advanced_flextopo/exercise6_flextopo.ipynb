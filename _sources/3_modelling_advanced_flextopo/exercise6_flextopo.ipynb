{
 "cells": [
  {
   "cell_type": "markdown",
   "id": "f23a1058-adf2-40fe-a93c-ef5030f04f6c",
   "metadata": {},
   "source": [
    "# Exercise Flextopo \n",
    "\n",
    "In this exercise you are asked to create a Flextopo model in a seperate Python file which will be imported here. This notebook can then be used to run the model, the notebook also imports the relevant packages needed to run it on eWaterCycle.\n",
    "\n",
    "In this folder you can find a file called flextopo_bmi.py. Open that file and look for the function called update, ie def update(self) -> None:. If you look closely you will see that this is the 'core' of Flextopo model. As you can see, most of the variables are set to zero, which is, of course, incorrect. Change this part as you learned in the HBV exercise, but make sure you use self.var instead of var for any variable. For example: self.Si = self.Si + self.P_dt. This way of coding is needed because we are creating a HBV class here that we can use later. (Remember your programming classes in MUDE and before).\n",
    "\n",
    "Once you have added your code, save the file and run the notebook below. Read carefully, you will have to change some things yourself. The first part will create a hydrograph in which you can compare your calculated discharge with the reference discharge. In the second part, a test case is created which will check your model with a pre-defined parameter set and initial storages. Optionally, in the third part you can create a test case yourself.\n",
    "\n",
    "Important: Anytime you edit the code in hbv_bmi.py, it is important to restart the kernel and re-run the cells, to make sure your changes are imported (in cell 3 below)"
   ]
  },
  {
   "cell_type": "code",
   "execution_count": null,
   "id": "7faf5e81-3046-466e-bae7-b33d713248a7",
   "metadata": {
    "nbgrader": {
     "grade": false,
     "grade_id": "cell-b9aac67c39d7def3",
     "locked": true,
     "schema_version": 3,
     "solution": false,
     "task": false
    },
    "slideshow": {
     "slide_type": ""
    },
    "tags": []
   },
   "outputs": [],
   "source": [
    "# General python\n",
    "\n",
    "import numpy as np\n",
    "import pandas as pd\n",
    "import matplotlib.pyplot as plt\n",
    "import matplotlib as mpl\n",
    "from FLEXtopo import FLEXtopo\n",
    "from datetime import datetime \n",
    "import warnings\n",
    "warnings.filterwarnings('ignore')\n"
   ]
  },
  {
   "cell_type": "markdown",
   "id": "45ba0c50-f7ef-4608-a62f-cb229824385a",
   "metadata": {},
   "source": [
    "## Load data\n",
    "\n",
    "In the folder `wark_data` you can find data from the Wark region. In the cell below the data is loaded into arrays and plotted. "
   ]
  },
  {
   "cell_type": "code",
   "execution_count": null,
   "id": "63b02f5d-abd6-4392-a6af-ac60db32430e",
   "metadata": {},
   "outputs": [],
   "source": [
    "DEM = np.genfromtxt('wark_data/dem.asc',  dtype=float, autostrip=True)\n",
    "slope = np.genfromtxt('wark_data/slope.asc',  dtype=float, autostrip=True)\n",
    "hand = np.genfromtxt('wark_data/HAND.asc',  dtype=float, autostrip=True)\n",
    "basin = np.genfromtxt('wark_data/basin.asc',  dtype=float, autostrip=True)"
   ]
  },
  {
   "cell_type": "code",
   "execution_count": null,
   "id": "7a971067-d38b-49f5-9608-884b60c370ec",
   "metadata": {},
   "outputs": [],
   "source": [
    "# Plot DEM\n",
    "fig, ax = plt.subplots(figsize=(8,6))\n",
    "ax.set_title('Digital Elevation Model')\n",
    "DEM[DEM==-9999]=np.nan\n",
    "im = ax.imshow(DEM, cmap='hsv')\n",
    "fig.colorbar(im, ax=ax, shrink=0.7)\n",
    "fig.tight_layout()\n",
    "\n",
    "# plot HAN\n",
    "fig, ax = plt.subplots(figsize=(8,6))\n",
    "ax.set_title('HAND')\n",
    "hand[hand==-9999]=np.nan\n",
    "im = ax.imshow(hand, cmap='hsv')\n",
    "fig.colorbar(im, ax=ax, shrink=0.7)\n",
    "fig.tight_layout()"
   ]
  },
  {
   "cell_type": "markdown",
   "id": "fb8837dc-81d6-489a-98a2-1f0ecf566037",
   "metadata": {},
   "source": [
    "## Classification\n",
    "\n",
    "Create classifications based on the `slope`, `hand` and `basin`.\n",
    "If the slope is larger than 11, it is defined as a hillslope. For hand larger than 5 and slope smaller than 11, it is plateau. For hand smaller than or equal to 5 and slope smaller than or equal to 11, it is defined as wetland. \n",
    "Basin is defined for all indices larger than 0 in the basin array. \n",
    "\n",
    "\n",
    "Calculate the percentages of hillslope, wetland and plateau in the area. "
   ]
  },
  {
   "cell_type": "code",
   "execution_count": null,
   "id": "c6000637-5254-4ca4-a022-787a56f7d666",
   "metadata": {},
   "outputs": [],
   "source": [
    "# Make landscape classification\n",
    "hillslope = np.array(slope) >11\n",
    "plateau = (np.array(hand) > 5) & (np.array(slope) <= 11)\n",
    "wetland = (np.array(hand) <= 5) & (np.array(slope) <= 11)\n",
    "basin = np.array(basin)>0\n",
    "\n",
    "hillslope_per = float(np.sum(hillslope))/float(np.sum(basin))\n",
    "wetland_per = float(np.sum(wetland))/float(np.sum(basin))\n",
    "plateau_per = float(np.sum(plateau))/float(np.sum(basin))\n",
    "\n",
    "landscapes=np.zeros((118,220))\n",
    "landscapes[plateau]=1\n",
    "landscapes[hillslope]=2\n",
    "landscapes[wetland]=3\n",
    "\n",
    "# Plot landscapes\n",
    "cmap = mpl.colors.ListedColormap(['white', 'red', 'green', 'blue'])\n",
    "bounds=[0,1,2,3,4]\n",
    "labels = ['no data', 'plateau', 'hillslope', 'wetland' ]\n",
    "norm = mpl.colors.BoundaryNorm(bounds, cmap.N, )\n",
    "\n",
    "fig, ax = plt.subplots(figsize=(10,6))\n",
    "ax.set_title('Landscape classifications')\n",
    "im = ax.imshow(landscapes, cmap=cmap, norm=norm,)\n",
    "# Create color bar\n",
    "cbar = plt.colorbar(im, ticks=[0.5, 1.5, 2.5, 3.5])\n",
    "cbar.set_ticklabels(labels)\n",
    "plt.show()"
   ]
  },
  {
   "cell_type": "markdown",
   "id": "ca0015c0-dad4-4076-9055-92a4e291c7f9",
   "metadata": {},
   "source": [
    "## Define parameters\n",
    "\n",
    "Load the forcing data from the text file in the `wark_data` folder. \n",
    "Define the parameters as you did before for the HBV model, now you need to define them for `Plateau`, `Hillslope` and `Wetland` areas. `Ks` and `Tlag` are defined for the whole catchment. "
   ]
  },
  {
   "cell_type": "code",
   "execution_count": null,
   "id": "900fda58-2fd1-4d7d-bcef-bc1721a60d21",
   "metadata": {},
   "outputs": [],
   "source": [
    "# Assuming the text file has three columns: year, month, day\n",
    "# Use pandas to read the text file\n",
    "df = pd.read_csv('wark_data/forcingWark.txt', sep='\\s+', header=None, names=['month', 'day', 'year', 'Qo', 'Prec', 'Etp'], dtype=float)\n",
    "\n",
    "# Create a new column that combines the year, month, and day into a datetime object\n",
    "df['date'] = pd.to_datetime(df[['day', 'month', 'year']])\n",
    "\n",
    "forcing = df"
   ]
  },
  {
   "cell_type": "code",
   "execution_count": null,
   "id": "e35bec2b-fa9c-43d3-8346-3db7f1a82e39",
   "metadata": {},
   "outputs": [],
   "source": [
    "                  #      Imax Ce Sumax beta Pmax    Kf  \n",
    "ParPlateau   = np.array([3.2, 0.50, 17.40, 0.95, 1.76, 0.91])   \n",
    "                  #      Imax Ce Sumax beta D     Kf  \n",
    "ParHillslope = np.array([3.25, 0.50, 321.99, 0.99, 0.4, 0.97])\n",
    "                  #      Imax Ce Sumax beta Cmax     Kf  \n",
    "ParWetland   = np.array([9.94, 0.50, 53.25, 0.70, 0.65, 0.45])\n",
    "              # Ks Tlag\n",
    "ParCatchment = np.array([0.0281, 2.21])\n",
    "\n",
    "# Landscape percentages\n",
    "landscape_per = np.array([plateau_per, hillslope_per, wetland_per])"
   ]
  },
  {
   "cell_type": "markdown",
   "id": "2cb55f59-ce0e-428c-9b75-bcc2eeb3d035",
   "metadata": {},
   "source": [
    "## Calculate the discharge \n",
    "\n",
    "Use the FLEXtopo model to calculate the discharge. Plot it together with the measured discharge."
   ]
  },
  {
   "cell_type": "code",
   "execution_count": null,
   "id": "4d62c3da-be79-45e8-ba73-cca2d15f8aff",
   "metadata": {},
   "outputs": [],
   "source": [
    "Qm = FLEXtopo(ParPlateau, ParHillslope, ParWetland, ParCatchment, forcing, landscape_per)\n",
    "Qo = forcing['Qo']\t\n",
    "\n",
    "fig, ax = plt.subplots(figsize=(10,6))\n",
    "\n",
    "ax.plot(df['date'], Qo, label='Observed')\n",
    "ax.plot(df['date'], Qm, label='Modelled')\n",
    "ax.legend()\n",
    "ax.set_title('Discharge - FLEXtopo')\n",
    "\n",
    "ax.set_xlabel('Date')\n",
    "ax.set_ylabel('Flow')"
   ]
  },
  {
   "cell_type": "code",
   "execution_count": null,
   "id": "a4c0a5e6-5f4c-44dd-922e-7b568aa36206",
   "metadata": {},
   "outputs": [],
   "source": []
  }
 ],
 "metadata": {
  "kernelspec": {
   "display_name": "Python 3 (ipykernel)",
   "language": "python",
   "name": "python3"
  },
  "language_info": {
   "codemirror_mode": {
    "name": "ipython",
    "version": 3
   },
   "file_extension": ".py",
   "mimetype": "text/x-python",
   "name": "python",
   "nbconvert_exporter": "python",
   "pygments_lexer": "ipython3",
   "version": "3.12.4"
  }
 },
 "nbformat": 4,
 "nbformat_minor": 5
}

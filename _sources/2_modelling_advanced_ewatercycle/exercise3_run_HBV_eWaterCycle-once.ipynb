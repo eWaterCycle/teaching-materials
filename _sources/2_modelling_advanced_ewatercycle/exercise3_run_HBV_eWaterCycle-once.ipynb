{
 "cells": [
  {
   "cell_type": "markdown",
   "metadata": {},
   "source": [
    "# Exercise 3: Run HBV model with ERA5 forcing and GRDC observation\n",
    "\n",
    "In this notebook you will run your own HBV model using ERA5 forcing data (from the previous notebook) and GRDC observation data. You will have to change a few settings below. Read carefully and decide which inputs and lines you need to change."
   ]
  },
  {
   "cell_type": "code",
   "execution_count": null,
   "metadata": {},
   "outputs": [],
   "source": [
    "# Load all dependencies, including your own model through ewatercycle_wrapper_HBV\n",
    "import ewatercycle.forcing\n",
    "import ewatercycle.observation.grdc\n",
    "import ewatercycle.analysis\n",
    "from pathlib import Path\n",
    "from cartopy.io import shapereader\n",
    "import pandas as pd\n",
    "import numpy as np\n",
    "from rich import print\n",
    "import matplotlib.pyplot as plt\n",
    "\n",
    "from ewatercycle_wrapper_HBV import HBV\n",
    " \n"
   ]
  },
  {
   "cell_type": "markdown",
   "metadata": {},
   "source": [
    "Add the name of your region in the cell below:"
   ]
  },
  {
   "cell_type": "code",
   "execution_count": null,
   "metadata": {},
   "outputs": [],
   "source": [
    "# Name of your shapefile/region without extension:\n",
    "own_region = None #for example: \"Rhine\"\n",
    "\n",
    "if own_region == None: # if nothing is provided, the Rhine shapefile will be used\n",
    "    own_region = \"Rhine\""
   ]
  },
  {
   "cell_type": "code",
   "execution_count": null,
   "metadata": {},
   "outputs": [],
   "source": [
    "# Shapefile that describes the basin we want to study.\n",
    "path = Path.cwd()\n",
    "forcing_path = path / \"Forcing\"\n",
    "shapeFile = forcing_path / f\"{own_region}.shp\"\n",
    "\n",
    "# Location to saved forcing results from previous notebook\n",
    "forcingLocation = forcing_path / f\"{own_region}Forcing2000-2002\"\n",
    "\n",
    "# GRDC station ID for the observation station\n",
    "grdc_station_id = \"6335020\"  # GRDC station ID\n",
    "basin_name = own_region\n",
    "\n",
    "# Period of interest. Make sure that GRDC data is available for this period and that.\n",
    "experiment_start_time = \"2000-01-01T00:00:00Z\"\n",
    "experiment_end_time = \"2002-12-31T00:00:00Z\"\n"
   ]
  },
  {
   "cell_type": "markdown",
   "metadata": {},
   "source": [
    "Forcing was created in the previous notebook and loaded here."
   ]
  },
  {
   "cell_type": "code",
   "execution_count": null,
   "metadata": {},
   "outputs": [],
   "source": [
    "ERA5_forcing = ewatercycle.forcing.sources[\"LumpedMakkinkForcing\"].load(forcingLocation)\n",
    "print(ERA5_forcing)"
   ]
  },
  {
   "cell_type": "markdown",
   "metadata": {},
   "source": [
    "Now we can prepare the configuration files just as in the first notebook. Note that we are using the same parameters as in the first notebook which will not be adequete for your new area (but might be pretty ok, let's see!):"
   ]
  },
  {
   "cell_type": "code",
   "execution_count": null,
   "metadata": {
    "nbgrader": {
     "grade": false,
     "grade_id": "cell-9e8f254e3dd78daa",
     "locked": true,
     "schema_version": 3,
     "solution": false,
     "task": false
    }
   },
   "outputs": [],
   "source": [
    "s_0 = np.array([0,  100,  0,  5])\n",
    "\n",
    "p_min_initial = np.array([0,   0.2,  40,    .5,   .001,   1,     .01,  .0001])\n",
    "p_max_initial = np.array([8,    1,  800,   4,    .3,     10,    .1,   .01])\n",
    "\n",
    "p_names = [\"$I_{max}$\",  \"$C_e$\",  \"$Su_{max}$\", \"β\",  \"$P_{max}$\",  \"$T_{lag}$\",   \"$K_f$\",   \"$K_s$\"]\n",
    "S_names = [\"Interception storage\", \"Unsaturated Rootzone Storage\", \"Fastflow storage\", \"Groundwater storage\"]\n",
    "\n",
    "param_names = [\"Imax\",\"Ce\",  \"Sumax\", \"beta\",  \"Pmax\",  \"Tlag\",   \"Kf\",   \"Ks\"]\n",
    "\n",
    "par_0 = (p_min_initial + p_max_initial)/2"
   ]
  },
  {
   "cell_type": "code",
   "execution_count": null,
   "metadata": {
    "nbgrader": {
     "grade": false,
     "grade_id": "cell-2a93492c16132434",
     "locked": true,
     "schema_version": 3,
     "solution": false,
     "task": false
    }
   },
   "outputs": [],
   "source": [
    "model = HBV(forcing=ERA5_forcing)"
   ]
  },
  {
   "cell_type": "code",
   "execution_count": null,
   "metadata": {
    "nbgrader": {
     "grade": false,
     "grade_id": "cell-4f3e92bb40d31152",
     "locked": true,
     "schema_version": 3,
     "solution": false,
     "task": false
    }
   },
   "outputs": [],
   "source": [
    "config_file, _ = model.setup(\n",
    "                            parameters=','.join([str(p) for p in par_0]),\n",
    "                            initial_storage=','.join([str(s) for s in s_0]),\n",
    "                               )"
   ]
  },
  {
   "cell_type": "code",
   "execution_count": null,
   "metadata": {},
   "outputs": [],
   "source": [
    "model.initialize(config_file)"
   ]
  },
  {
   "cell_type": "markdown",
   "metadata": {},
   "source": [
    "Now it is time again to run the HBV model:"
   ]
  },
  {
   "cell_type": "code",
   "execution_count": null,
   "metadata": {
    "nbgrader": {
     "grade": false,
     "grade_id": "cell-0dd66560cf39beeb",
     "locked": true,
     "schema_version": 3,
     "solution": false,
     "task": false
    }
   },
   "outputs": [],
   "source": [
    "Q_m = []\n",
    "time = []\n",
    "while model.time < model.end_time:\n",
    "    model.update()\n",
    "    discharge_this_timestep = model.get_value(\"Q\")\n",
    "    Q_m.append(discharge_this_timestep[0])\n",
    "    time.append(pd.Timestamp(model.time_as_datetime.date()))"
   ]
  },
  {
   "cell_type": "code",
   "execution_count": null,
   "metadata": {
    "nbgrader": {
     "grade": false,
     "grade_id": "cell-c3ee6c1849b4dd22",
     "locked": true,
     "schema_version": 3,
     "solution": false,
     "task": false
    }
   },
   "outputs": [],
   "source": [
    "df = pd.DataFrame(data=Q_m,columns=[\"Modeled discharge\"], index=time)"
   ]
  },
  {
   "cell_type": "markdown",
   "metadata": {},
   "source": [
    "We can plot the output discharge directly using the DataFrame."
   ]
  },
  {
   "cell_type": "code",
   "execution_count": null,
   "metadata": {},
   "outputs": [],
   "source": [
    "fig, ax = plt.subplots(1,1)\n",
    "\n",
    "df.plot(ax=ax,label=\"Modeled discharge HBV-bmi\")\n",
    "plt.ylabel(f\"Discharge ({model.bmi.get_var_units('Q')})\")\n",
    "plt.xlabel(\"Time\")"
   ]
  },
  {
   "cell_type": "markdown",
   "metadata": {},
   "source": [
    "## Analyse results\n",
    "We can also use the ```hydrograph``` function from eWaterCycle. This will make a hydrograph that compares model output to observations. For this we need to load observations and make sure that the observations and model output are in the same units. Observations typically are in m$^3$/s. \n",
    "\n",
    "Note that the unit of discharge from this model is in mm/d. Conversion to m$^3$/s requires the area of the catchment."
   ]
  },
  {
   "cell_type": "code",
   "execution_count": null,
   "metadata": {},
   "outputs": [],
   "source": [
    "shapeObject = shapereader.Reader(shapeFile.absolute())\n",
    "record = next(shapeObject.records())\n",
    "shape_area = record.attributes[\"SUB_AREA\"] * 1e6\n",
    "print(\"The catchment area is:\", shape_area)"
   ]
  },
  {
   "cell_type": "markdown",
   "metadata": {},
   "source": [
    "The hydrograph function requires xarrays. We use the DataFrame ```df``` and convert the discharge to m$^3$ per second. Then we convert it to a ```xarray```"
   ]
  },
  {
   "cell_type": "code",
   "execution_count": null,
   "metadata": {},
   "outputs": [],
   "source": [
    "df['model output'] = df['Modeled discharge'] * shape_area / (1000 * 86400)\n",
    "sim_data = df['model output'].to_xarray().rename({'index': 'time'}) \n",
    "sim_data.name = 'Simulated data'"
   ]
  },
  {
   "cell_type": "markdown",
   "metadata": {},
   "source": [
    "The observation data is loaded using ```the get_grdc_data()``` function build into eWaterCycle. The GRDC data is given as a xarray object. The observation data and discharge data are combined together into one xarray. Note that we re-index the discharge data to make sure they are at the same timestamp."
   ]
  },
  {
   "cell_type": "code",
   "execution_count": null,
   "metadata": {},
   "outputs": [],
   "source": [
    "observations = ewatercycle.observation.grdc.get_grdc_data(\n",
    "    station_id=grdc_station_id,\n",
    "    start_time=experiment_start_time,\n",
    "    end_time=experiment_end_time,\n",
    "    column='Observations from GRDC',\n",
    ")"
   ]
  },
  {
   "cell_type": "markdown",
   "metadata": {},
   "source": [
    "Have a look at the DataFrame with the model output and the observations from GRDC:"
   ]
  },
  {
   "cell_type": "code",
   "execution_count": null,
   "metadata": {},
   "outputs": [],
   "source": [
    "discharge = xr.merge([sim_data, observations[\"Observations from GRDC\"]]).to_dataframe()\n",
    "hydro_data = discharge[[\"Observations from GRDC\", \"Simulated data\"]].dropna()\n",
    "hydro_data"
   ]
  },
  {
   "cell_type": "markdown",
   "metadata": {},
   "source": [
    "Finally plot the hydrograph. It is remarkabe to see how well a simple model like HBV, without calibration, is already able to predict discharge in the Rhine. Is it also good for your own area? "
   ]
  },
  {
   "cell_type": "code",
   "execution_count": null,
   "metadata": {},
   "outputs": [],
   "source": [
    "# Plot hydrograph and show metrics\n",
    "ewatercycle.analysis.hydrograph(hydro_data, reference='Observations from GRDC', filename = 'experiment_hydrograph.png')"
   ]
  },
  {
   "cell_type": "markdown",
   "metadata": {},
   "source": [
    "It is good practice to remove a model object when done using ```.finalize()```. For small models like this, it doesn't matter too much, but larger models that run in containers keep using resources when not ```finalized```."
   ]
  },
  {
   "cell_type": "code",
   "execution_count": null,
   "metadata": {},
   "outputs": [],
   "source": [
    "model.finalize()"
   ]
  }
 ],
 "metadata": {
  "kernelspec": {
   "display_name": "Python 3",
   "language": "python",
   "name": "python3"
  },
  "language_info": {
   "codemirror_mode": {
    "name": "ipython",
    "version": 3
   },
   "file_extension": ".py",
   "mimetype": "text/x-python",
   "name": "python",
   "nbconvert_exporter": "python",
   "pygments_lexer": "ipython3",
   "version": "3.13.2"
  }
 },
 "nbformat": 4,
 "nbformat_minor": 4
}

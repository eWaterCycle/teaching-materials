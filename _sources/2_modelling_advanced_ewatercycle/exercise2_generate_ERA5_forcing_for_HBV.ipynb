{
 "cells": [
  {
   "cell_type": "markdown",
   "metadata": {},
   "source": [
    "# Exercise 2. Generate forcing for any region from ERA5 for HBV model\n",
    "\n",
    "In this exercise you will test you model again, but now based on forcing data which will be generated from ERA5. This notebook will execute the steps to generate forcing from ERA5 for the region you chose. For forcing generation we use the eWaterCycle generic forcing generator. This can generate forcing data with ESMValTool from ERA5 data (if available on your machine, which it is on the Surf Research Cloud that we are using), as well as CMIP6 data (which will be downloaded automatically). CMIP6 data will be discussed in a later notebook.\n",
    "\n",
    "You need to provide your own shapefile by uploading it to the \"Forcing\" directory, which you can find in the file browser on the left. For testing purposes, we have already uploaded a shapefile for the Rhine. Save the shapefile with a name indicating the region you chose, like we did for the Rhine.  Ensure that you upload all associated files required for the shapefile to function correctly. The necessary file extensions include ```.dbf```, ```.prj```, ```.qpj```, ```.shp``` and ```.shx```. Without these files, eWaterCycle will not be able to read the shapefile properly.\n",
    "\n",
    "We have seperated generating the forcing and running the model into two notebooks because generating the forcing is quite heavy on the hardware and we want to minimize the number of times you have to do that. After generating your forcing in this notebook, it will be saved so we can load it later without having to re-run it.\n"
   ]
  },
  {
   "cell_type": "code",
   "execution_count": null,
   "metadata": {},
   "outputs": [],
   "source": [
    "# Required dependencies, note that we do not need to import the model for only generating forcing\n",
    "import ewatercycle.forcing\n",
    "import ewatercycle.observation.grdc\n",
    "import ewatercycle.analysis\n",
    "from pathlib import Path\n",
    "from cartopy.io import shapereader\n",
    "import pandas as pd\n",
    "import numpy as np\n",
    "import matplotlib.pyplot as plt\n",
    "from rich import print\n",
    "import shutil"
   ]
  },
  {
   "cell_type": "markdown",
   "metadata": {},
   "source": [
    "Change the variable ```own_region```  to the name of your shapefile in the code cell below. This will be used to import the shapefile and create the forcing. "
   ]
  },
  {
   "cell_type": "code",
   "execution_count": null,
   "metadata": {},
   "outputs": [],
   "source": [
    "# Name of your shapefile/region without extension:\n",
    "own_region = None  # for example: \"Rhine\""
   ]
  },
  {
   "cell_type": "code",
   "execution_count": null,
   "metadata": {},
   "outputs": [],
   "source": [
    "if own_region == None:  # if nothing is provided, the Rhine shapefile will be used\n",
    "    own_region = \"Rhine\"\n",
    "\n",
    "\n",
    "# Shapefile that describes the basin we want to study.\n",
    "path = Path.cwd()\n",
    "forcing_path = path / \"Forcing\"    \n",
    "shapeFile = forcing_path / f\"{own_region}.shp\"\n",
    "\n",
    "# Location to save forcing results\n",
    "saveLocation = forcing_path / f\"{own_region}Forcing\""
   ]
  },
  {
   "cell_type": "markdown",
   "metadata": {},
   "source": [
    "In the cell below you can indicate the time period of your interest. Make sure that ERA5 is available on your machine for this period. On our machine ERA5 is available from 1990 up untill 2019, so choose a period within this timeframe and make sure you have observation data of discharge available for the same period!"
   ]
  },
  {
   "cell_type": "code",
   "execution_count": null,
   "metadata": {},
   "outputs": [],
   "source": [
    "experiment_start_time = \"2000-01-01T00:00:00Z\"\n",
    "experiment_end_time = \"2002-12-31T00:00:00Z\""
   ]
  },
  {
   "cell_type": "markdown",
   "metadata": {},
   "source": [
    "Forcing is created using the LumpedMakkinkForcing option in eWaterCycle. This selects rainfall and precipitation from the indicated dataset for the given time period and averages over the indicated shape. It calculates potential evaporation using the approximation by Makkink. The result is two NetCDF files and a yaml file. This can later be loaded using ```ewatercycle.forcing.sources[\"LumpedMakkinkForcing\"].load(forcingLocation)```. Depending on how busy the machine is and how big the area is you are generating forcing for, the cell below can take several minutes to run."
   ]
  },
  {
   "cell_type": "code",
   "execution_count": null,
   "metadata": {},
   "outputs": [],
   "source": [
    "ERA5_forcing = ewatercycle.forcing.sources[\"LumpedMakkinkForcing\"].generate(\n",
    "    dataset=\"ERA5\",\n",
    "    start_time=experiment_start_time,\n",
    "    end_time=experiment_end_time,\n",
    "    shape=shapeFile.absolute(),\n",
    ")\n"
   ]
  },
  {
   "cell_type": "code",
   "execution_count": null,
   "metadata": {},
   "outputs": [],
   "source": [
    "print(f\"The forcing object you created: \\n {ERA5_forcing}\")"
   ]
  },
  {
   "cell_type": "markdown",
   "metadata": {},
   "source": [
    "The ERA5 forcing is converted to an xarray. Xarray is a Python package for working with labeled multi-dimensional arrays, it includes functions for advanced analytics and visualization. In this way, it is easier to plot the data.\n",
    "The forcing (precipitation and the potential evaporation) are plotted in the figure below. \n"
   ]
  },
  {
   "cell_type": "code",
   "execution_count": null,
   "metadata": {},
   "outputs": [],
   "source": [
    "evap = ERA5_forcing.to_xarray()[\"evspsblpot\"]\n",
    "prec = ERA5_forcing.to_xarray()[\"pr\"]\n",
    "\n",
    "fig, ax = plt.subplots(figsize=(12,10))\n",
    "\n",
    "evap.plot(ax=ax, label='Potential evaporation')\n",
    "prec.plot(ax=ax, label='Precipitation')\n",
    "ax.set_ylabel('')\n",
    "ax.set_title(f'Forcing data for the region: {own_region}')\n",
    "ax.legend()"
   ]
  },
  {
   "cell_type": "markdown",
   "metadata": {},
   "source": [
    "Finally, the forcing is saved deep in an ESMValTool directory that was just created. For easy loading in other notebooks, let's save it in a better location."
   ]
  },
  {
   "cell_type": "code",
   "execution_count": null,
   "metadata": {},
   "outputs": [],
   "source": [
    "shutil.copytree(ERA5_forcing.directory, saveLocation)"
   ]
  }
 ],
 "metadata": {
  "kernelspec": {
   "display_name": "Python 3 (ipykernel)",
   "language": "python",
   "name": "python3"
  },
  "language_info": {
   "codemirror_mode": {
    "name": "ipython",
    "version": 3
   },
   "file_extension": ".py",
   "mimetype": "text/x-python",
   "name": "python",
   "nbconvert_exporter": "python",
   "pygments_lexer": "ipython3",
   "version": "3.12.5"
  }
 },
 "nbformat": 4,
 "nbformat_minor": 4
}
